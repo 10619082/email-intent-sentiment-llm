{
 "cells": [
  {
   "cell_type": "code",
   "execution_count": null,
   "metadata": {},
   "outputs": [],
   "source": [
    "import os\n",
    "from openai import OpenAI\n",
    "from dotenv import load_dotenv\n",
    "from prompts.prompt_04 import base_prompt,system_prompt,mimic_prompt,init_prompt\n",
    "\n",
    "load_dotenv()  \n",
    "\n",
    "# Configurazione dell'API\n",
    "XAI_API_KEY = os.getenv(\"XAI_API_KEY\")\n",
    "\n",
    "client = OpenAI(\n",
    "    api_key=XAI_API_KEY,\n",
    "    base_url=\"https://api.x.ai/v1\",\n",
    ")"
   ]
  }
 ],
 "metadata": {
  "kernelspec": {
   "display_name": ".venv",
   "language": "python",
   "name": "python3"
  },
  "language_info": {
   "name": "python",
   "version": "3.12.7"
  }
 },
 "nbformat": 4,
 "nbformat_minor": 2
}
